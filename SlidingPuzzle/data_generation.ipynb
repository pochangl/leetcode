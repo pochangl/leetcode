{
 "cells": [
  {
   "cell_type": "code",
   "execution_count": 12,
   "metadata": {},
   "outputs": [],
   "source": [
    "import sys"
   ]
  },
  {
   "cell_type": "code",
   "execution_count": 42,
   "metadata": {},
   "outputs": [],
   "source": [
    "'''\n",
    "source:\n",
    "    https://leetcode.com/problems/sliding-puzzle/discuss/336341/Easy-and-concise-40-ms-python-bfs-solution-beats-96.68\n",
    "'''\n",
    "def slidingPuzzle(board):\n",
    "    moves = [(1, 3), (0, 2, 4), (1, 5), (0, 4), (1, 3, 5), (2, 4)]\n",
    "    target, start = [1, 2, 3, 4, 5, 0], board[0] + board[1]\n",
    "    queue, dist, visited = [start], 0, {tuple(start)}\n",
    "\n",
    "    def swap(i, j, state):\n",
    "        copy = state[:]\n",
    "        copy[i], copy[j] = copy[j], copy[i]\n",
    "        return copy\n",
    "\n",
    "    while queue:\n",
    "        new = []\n",
    "        for state in queue:\n",
    "            if state == target:\n",
    "                return dist\n",
    "            pos = state.index(0)\n",
    "            for pos2 in moves[pos]:\n",
    "                new_state = swap(pos, pos2, state)\n",
    "                if tuple(new_state) not in visited:\n",
    "                    new.append(new_state)\n",
    "                    visited.add(tuple(new_state))\n",
    "        queue = new\n",
    "        dist += 1\n",
    "    return -1"
   ]
  },
  {
   "cell_type": "code",
   "execution_count": 45,
   "metadata": {},
   "outputs": [],
   "source": [
    "'''\n",
    "source:\n",
    "    https://goshippo.com/blog/measure-real-size-any-python-object/\n",
    "'''\n",
    "import sys\n",
    "\n",
    "def getsizeof(obj, seen=None):\n",
    "    \"\"\"Recursively finds size of objects\"\"\"\n",
    "    size = sys.getsizeof(obj)\n",
    "    if seen is None:\n",
    "        seen = set()\n",
    "    obj_id = id(obj)\n",
    "    if obj_id in seen:\n",
    "        return 0\n",
    "    # Important mark as seen *before* entering recursion to gracefully handle\n",
    "    # self-referential objects\n",
    "    seen.add(obj_id)\n",
    "    if isinstance(obj, dict):\n",
    "        size += sum([get_size(v, seen) for v in obj.values()])\n",
    "        size += sum([get_size(k, seen) for k in obj.keys()])\n",
    "    elif hasattr(obj, '__dict__'):\n",
    "        size += get_size(obj.__dict__, seen)\n",
    "    elif hasattr(obj, '__iter__') and not isinstance(obj, (str, bytes, bytearray)):\n",
    "        size += sum([get_size(i, seen) for i in obj])\n",
    "    return size"
   ]
  },
  {
   "cell_type": "code",
   "execution_count": null,
   "metadata": {},
   "outputs": [],
   "source": []
  },
  {
   "cell_type": "code",
   "execution_count": null,
   "metadata": {},
   "outputs": [],
   "source": []
  },
  {
   "cell_type": "code",
   "execution_count": 46,
   "metadata": {},
   "outputs": [
    {
     "name": "stdout",
     "output_type": "stream",
     "text": [
      "full dict size = 77208\n"
     ]
    }
   ],
   "source": [
    "from itertools import permutations\n",
    "\n",
    "full_dct = dict()\n",
    "for lst in permutations(range(6), 6):\n",
    "    lst = list(lst)\n",
    "\n",
    "    board = [lst[:3], lst[3:]]\n",
    "\n",
    "    answer = slidingPuzzle(board)\n",
    "    full_dct[''.join(map(str, lst))] = answer\n",
    "        \n",
    "print('full dict size =', getsizeof(full_dct))"
   ]
  },
  {
   "cell_type": "code",
   "execution_count": 48,
   "metadata": {},
   "outputs": [
    {
     "name": "stdout",
     "output_type": "stream",
     "text": [
      "chopped dict size = 38940\n"
     ]
    }
   ],
   "source": [
    "dct = dict([(key, value) for key, value in full_dct.items() if value >= 0])\n",
    "print('chopped dict size =', getsizeof(dct))\n"
   ]
  },
  {
   "cell_type": "code",
   "execution_count": 53,
   "metadata": {},
   "outputs": [
    {
     "name": "stdout",
     "output_type": "stream",
     "text": [
      "full lst size: before= 160\n",
      "[[14, None, None, None, None, None]]\n",
      "full lst size = 1120368\n"
     ]
    }
   ],
   "source": [
    "def gen_list(depth):\n",
    "    if depth == 6:\n",
    "        return [None] * 6\n",
    "    return list(gen_list(depth + 1) for _ in range(6))\n",
    "\n",
    "full_lst = gen_list(1)\n",
    "print('full lst size: before=', sys.getsizeof(full_lst))\n",
    "for lst in permutations(range(6), 6):\n",
    "    board = [lst[:3], lst[3:]]\n",
    "    key = ''.join(map(str, lst))\n",
    "    full_lst[lst[0]][lst[1]][lst[2]][lst[3]][lst[4]][lst[5]] = full_dct.get(key, -1)\n",
    "\n",
    "print([full_lst[lst[0]][lst[1]][lst[2]][lst[3]][lst[4]]])\n",
    "print('full lst size =', getsizeof(full_lst))"
   ]
  },
  {
   "cell_type": "code",
   "execution_count": 56,
   "metadata": {},
   "outputs": [
    {
     "name": "stdout",
     "output_type": "stream",
     "text": [
      "[[14]]\n",
      "full lst size = 151792\n",
      "[[None, [None, None, [None, None, None, [None, None, None, None, [None, None, None, None, None, 15], [None, None, None, None, -1]], [None, None, None, [None, None, None, None, None, -1], None, [None, None, None, 3]], [None, None, None, [None, None, None, None, 15], [None, None, None, -1]]], [None, None, [None, None, None, None, [None, None, None, None, None, -1], [None, None, None, None, 15]], None, [None, None, [None, None, None, None, None, 3], None, None, [None, None, -1]], [None, None, [None, None, None, None, -1], None, [None, None, 17]]], [None, None, [None, None, None, [None, None, None, None, None, 17], None, [None, None, None, -1]], [None, None, [None, None, None, None, None, -1], None, None, [None, None, 15]], None, [None, None, [None, None, None, 13], [None, None, -1]]], [None, None, [None, None, None, [None, None, None, None, -1], [None, None, None, 17]], [None, None, [None, None, None, None, 13], None, [None, None, -1]], [None, None, [None, None, None, -1], [None, None, 7]]]], [None, [None, None, None, [None, None, None, None, [None, None, None, None, None, -1], [None, None, None, None, 19]], [None, None, None, [None, None, None, None, None, 15], None, [None, None, None, -1]], [None, None, None, [None, None, None, None, -1], [None, None, None, 13]]], None, [None, [None, None, None, None, [None, None, None, None, None, 3], [None, None, None, None, -1]], None, None, [None, [None, None, None, None, None, -1], None, None, None, [None, 11]], [None, [None, None, None, None, 11], None, None, [None, -1]]], [None, [None, None, None, [None, None, None, None, None, -1], None, [None, None, None, 9]], None, [None, [None, None, None, None, None, 15], None, None, None, [None, -1]], None, [None, [None, None, None, -1], None, [None, 15]]], [None, [None, None, None, [None, None, None, None, 9], [None, None, None, -1]], None, [None, [None, None, None, None, -1], None, None, [None, 15]], [None, [None, None, None, 17], None, [None, -1]]]], [None, [None, None, [None, None, None, None, [None, None, None, None, None, 15], [None, None, None, None, -1]], None, [None, None, [None, None, None, None, None, -1], None, None, [None, None, 11]], [None, None, [None, None, None, None, 19], None, [None, None, -1]]], [None, [None, None, None, None, [None, None, None, None, None, -1], [None, None, None, None, 13]], None, None, [None, [None, None, None, None, None, 17], None, None, None, [None, -1]], [None, [None, None, None, None, -1], None, None, [None, 19]]], None, [None, [None, None, [None, None, None, None, None, 13], None, None, [None, None, -1]], [None, [None, None, None, None, None, -1], None, None, None, [None, 15]], None, None, [None, [None, None, 13], [None, -1]]], [None, [None, None, [None, None, None, None, -1], None, [None, None, 7]], [None, [None, None, None, None, 9], None, None, [None, -1]], None, [None, [None, None, -1], [None, 11]]]], [None, [None, None, [None, None, None, [None, None, None, None, None, -1], None, [None, None, None, 9]], [None, None, [None, None, None, None, None, 13], None, None, [None, None, -1]], None, [None, None, [None, None, None, -1], [None, None, 9]]], [None, [None, None, None, [None, None, None, None, None, 17], None, [None, None, None, -1]], None, [None, [None, None, None, None, None, -1], None, None, None, [None, 15]], None, [None, [None, None, None, 7], None, [None, -1]]], [None, [None, None, [None, None, None, None, None, -1], None, None, [None, None, 17]], [None, [None, None, None, None, None, 7], None, None, None, [None, -1]], None, None, [None, [None, None, -1], [None, 11]]], None, [None, [None, None, [None, None, None, 19], [None, None, -1]], [None, [None, None, None, -1], None, [None, 11]], [None, [None, None, 11], [None, -1]]]], [None, [None, None, [None, None, None, [None, None, None, None, 17], [None, None, None, -1]], [None, None, [None, None, None, None, -1], None, [None, None, 13]], [None, None, [None, None, None, 11], [None, None, -1]]], [None, [None, None, None, [None, None, None, None, -1], [None, None, None, 5]], None, [None, [None, None, None, None, 13], None, None, [None, -1]], [None, [None, None, None, -1], None, [None, 15]]], [None, [None, None, [None, None, None, None, 11], None, [None, None, -1]], [None, [None, None, None, None, -1], None, None, [None, 15]], None, [None, [None, None, 17], [None, -1]]], [None, [None, None, [None, None, None, -1], [None, None, 11]], [None, [None, None, None, 11], None, [None, -1]], [None, [None, None, -1], [None, 15]]]]], [[None, None, [None, None, None, [None, None, None, None, [None, None, None, None, None, 14], [None, None, None, None, -1]], [None, None, None, [None, None, None, None, None, -1], None, [None, None, None, 2]], [None, None, None, [None, None, None, None, 14], [None, None, None, -1]]], [None, None, [None, None, None, None, [None, None, None, None, None, -1], [None, None, None, None, 14]], None, [None, None, [None, None, None, None, None, 2], None, None, [None, None, -1]], [None, None, [None, None, None, None, -1], None, [None, None, 16]]], [None, None, [None, None, None, [None, None, None, None, None, 16], None, [None, None, None, -1]], [None, None, [None, None, None, None, None, -1], None, None, [None, None, 14]], None, [None, None, [None, None, None, 12], [None, None, -1]]], [None, None, [None, None, None, [None, None, None, None, -1], [None, None, None, 16]], [None, None, [None, None, None, None, 12], None, [None, None, -1]], [None, None, [None, None, None, -1], [None, None, 6]]]], None, [[None, None, None, [None, None, None, None, [None, None, None, None, None, 13], [None, None, None, None, -1]], [None, None, None, [None, None, None, None, None, -1], None, [None, None, None, 1]], [None, None, None, [None, None, None, None, 13], [None, None, None, -1]]], None, None, [[None, None, None, None, [None, None, None, None, None, 2], [None, None, None, None, -1]], None, None, None, [[None, None, None, None, None, 1], None, None, None, None, [0]], [[None, None, None, None, -1], None, None, None, [-1]]], [[None, None, None, [None, None, None, None, None, -1], None, [None, None, None, 10]], None, None, [[None, None, None, None, None, -1], None, None, None, None, [-1]], None, [[None, None, None, 11], None, None, [12]]], [[None, None, None, [None, None, None, None, 10], [None, None, None, -1]], None, None, [[None, None, None, None, 11], None, None, None, [12]], [[None, None, None, -1], None, None, [-1]]]], [[None, None, [None, None, None, None, [None, None, None, None, None, -1], [None, None, None, None, 15]], None, [None, None, [None, None, None, None, None, 3], None, None, [None, None, -1]], [None, None, [None, None, None, None, -1], None, [None, None, 17]]], None, [[None, None, None, None, [None, None, None, None, None, -1], [None, None, None, None, 14]], None, None, None, [[None, None, None, None, None, -1], None, None, None, None, [-1]], [[None, None, None, None, 15], None, None, None, [16]]], None, [[None, None, [None, None, None, None, None, 14], None, None, [None, None, -1]], None, [[None, None, None, None, None, 15], None, None, None, None, [16]], None, None, [[None, None, -1], None, [-1]]], [[None, None, [None, None, None, None, -1], None, [None, None, 6]], None, [[None, None, None, None, -1], None, None, None, [-1]], None, [[None, None, 5], None, [4]]]], [[None, None, [None, None, None, [None, None, None, None, None, 17], None, [None, None, None, -1]], [None, None, [None, None, None, None, None, -1], None, None, [None, None, 15]], None, [None, None, [None, None, None, 13], [None, None, -1]]], None, [[None, None, None, [None, None, None, None, None, 16], None, [None, None, None, -1]], None, None, [[None, None, None, None, None, 15], None, None, None, None, [16]], None, [[None, None, None, -1], None, None, [-1]]], [[None, None, [None, None, None, None, None, -1], None, None, [None, None, 16]], None, [[None, None, None, None, None, -1], None, None, None, None, [-1]], None, None, [[None, None, 15], None, [14]]], None, [[None, None, [None, None, None, 18], [None, None, -1]], None, [[None, None, None, 17], None, None, [18]], [[None, None, -1], None, [-1]]]], [[None, None, [None, None, None, [None, None, None, None, -1], [None, None, None, 15]], [None, None, [None, None, None, None, 13], None, [None, None, -1]], [None, None, [None, None, None, -1], [None, None, 5]]], None, [[None, None, None, [None, None, None, None, -1], [None, None, None, 4]], None, None, [[None, None, None, None, -1], None, None, None, [-1]], [[None, None, None, 3], None, None, [4]]], [[None, None, [None, None, None, None, 12], None, [None, None, -1]], None, [[None, None, None, None, 13], None, None, None, [14]], None, [[None, None, -1], None, [-1]]], [[None, None, [None, None, None, -1], [None, None, 12]], None, [[None, None, None, -1], None, None, [-1]], [[None, None, 13], None, [14]]]]], [[None, [None, None, None, [None, None, None, None, [None, None, None, None, None, -1], [None, None, None, None, 18]], [None, None, None, [None, None, None, None, None, 16], None, [None, None, None, -1]], [None, None, None, [None, None, None, None, -1], [None, None, None, 12]]], None, [None, [None, None, None, None, [None, None, None, None, None, 4], [None, None, None, None, -1]], None, None, [None, [None, None, None, None, None, -1], None, None, None, [None, 12]], [None, [None, None, None, None, 12], None, None, [None, -1]]], [None, [None, None, None, [None, None, None, None, None, -1], None, [None, None, None, 8]], None, [None, [None, None, None, None, None, 16], None, None, None, [None, -1]], None, [None, [None, None, None, -1], None, [None, 14]]], [None, [None, None, None, [None, None, None, None, 8], [None, None, None, -1]], None, [None, [None, None, None, None, -1], None, None, [None, 14]], [None, [None, None, None, 16], None, [None, -1]]]], [[None, None, None, [None, None, None, None, [None, None, None, None, None, -1], [None, None, None, None, 19]], [None, None, None, [None, None, None, None, None, 17], None, [None, None, None, -1]], [None, None, None, [None, None, None, None, -1], [None, None, None, 13]]], None, None, [[None, None, None, None, [None, None, None, None, None, -1], [None, None, None, None, 14]], None, None, None, [[None, None, None, None, None, -1], None, None, None, None, [-1]], [[None, None, None, None, 13], None, None, None, [14]]], [[None, None, None, [None, None, None, None, None, 18], None, [None, None, None, -1]], None, None, [[None, None, None, None, None, 17], None, None, None, None, [18]], None, [[None, None, None, -1], None, None, [-1]]], [[None, None, None, [None, None, None, None, -1], [None, None, None, 18]], None, None, [[None, None, None, None, -1], None, None, None, [-1]], [[None, None, None, 17], None, None, [18]]]], None, [[None, [None, None, None, None, [None, None, None, None, None, 5], [None, None, None, None, -1]], None, None, [None, [None, None, None, None, None, -1], None, None, None, [None, 13]], [None, [None, None, None, None, 13], None, None, [None, -1]]], [[None, None, None, None, [None, None, None, None, None, 16], [None, None, None, None, -1]], None, None, None, [[None, None, None, None, None, 15], None, None, None, None, [14]], [[None, None, None, None, -1], None, None, None, [-1]]], None, None, [[None, [None, None, None, None, None, -1], None, None, None, [None, 16]], [[None, None, None, None, None, -1], None, None, None, None, [-1]], None, None, None, [[None, 15], [14]]], [[None, [None, None, None, None, 8], None, None, [None, -1]], [[None, None, None, None, 7], None, None, None, [6]], None, None, [[None, -1], [-1]]]], [[None, [None, None, None, [None, None, None, None, None, -1], None, [None, None, None, 7]], None, [None, [None, None, None, None, None, 15], None, None, None, [None, -1]], None, [None, [None, None, None, -1], None, [None, 13]]], [[None, None, None, [None, None, None, None, None, -1], None, [None, None, None, 10]], None, None, [[None, None, None, None, None, -1], None, None, None, None, [-1]], None, [[None, None, None, 11], None, None, [12]]], None, [[None, [None, None, None, None, None, 6], None, None, None, [None, -1]], [[None, None, None, None, None, 5], None, None, None, None, [6]], None, None, None, [[None, -1], [-1]]], None, [[None, [None, None, None, -1], None, [None, 12]], [[None, None, None, -1], None, None, [-1]], None, [[None, 13], [14]]]], [[None, [None, None, None, [None, None, None, None, 9], [None, None, None, -1]], None, [None, [None, None, None, None, -1], None, None, [None, 15]], [None, [None, None, None, 15], None, [None, -1]]], [[None, None, None, [None, None, None, None, 18], [None, None, None, -1]], None, None, [[None, None, None, None, 17], None, None, None, [16]], [[None, None, None, -1], None, None, [-1]]], None, [[None, [None, None, None, None, -1], None, None, [None, 14]], [[None, None, None, None, -1], None, None, None, [-1]], None, None, [[None, 13], [14]]], [[None, [None, None, None, 10], None, [None, -1]], [[None, None, None, 9], None, None, [10]], None, [[None, -1], [-1]]]]], [[None, [None, None, [None, None, None, None, [None, None, None, None, None, 14], [None, None, None, None, -1]], None, [None, None, [None, None, None, None, None, -1], None, None, [None, None, 12]], [None, None, [None, None, None, None, 18], None, [None, None, -1]]], [None, [None, None, None, None, [None, None, None, None, None, -1], [None, None, None, None, 12]], None, None, [None, [None, None, None, None, None, 16], None, None, None, [None, -1]], [None, [None, None, None, None, -1], None, None, [None, 18]]], None, [None, [None, None, [None, None, None, None, None, 12], None, None, [None, None, -1]], [None, [None, None, None, None, None, -1], None, None, None, [None, 14]], None, None, [None, [None, None, 14], [None, -1]]], [None, [None, None, [None, None, None, None, -1], None, [None, None, 8]], [None, [None, None, None, None, 10], None, None, [None, -1]], None, [None, [None, None, -1], [None, 12]]]], [[None, None, [None, None, None, None, [None, None, None, None, None, 13], [None, None, None, None, -1]], None, [None, None, [None, None, None, None, None, -1], None, None, [None, None, 13]], [None, None, [None, None, None, None, 17], None, [None, None, -1]]], None, [[None, None, None, None, [None, None, None, None, None, 16], [None, None, None, None, -1]], None, None, None, [[None, None, None, None, None, 15], None, None, None, None, [14]], [[None, None, None, None, -1], None, None, None, [-1]]], None, [[None, None, [None, None, None, None, None, -1], None, None, [None, None, 16]], None, [[None, None, None, None, None, -1], None, None, None, None, [-1]], None, None, [[None, None, 15], None, [16]]], [[None, None, [None, None, None, None, 12], None, [None, None, -1]], None, [[None, None, None, None, 11], None, None, None, [12]], None, [[None, None, -1], None, [-1]]]], [[None, [None, None, None, None, [None, None, None, None, None, -1], [None, None, None, None, 13]], None, None, [None, [None, None, None, None, None, 15], None, None, None, [None, -1]], [None, [None, None, None, None, -1], None, None, [None, 19]]], [[None, None, None, None, [None, None, None, None, None, -1], [None, None, None, None, 20]], None, None, None, [[None, None, None, None, None, -1], None, None, None, None, [-1]], [[None, None, None, None, 19], None, None, None, [20]]], None, None, [[None, [None, None, None, None, None, 14], None, None, None, [None, -1]], [[None, None, None, None, None, 13], None, None, None, None, [14]], None, None, None, [[None, -1], [-1]]], [[None, [None, None, None, None, -1], None, None, [None, 14]], [[None, None, None, None, -1], None, None, None, [-1]], None, None, [[None, 13], [14]]]], None, [[None, [None, None, [None, None, None, None, None, 11], None, None, [None, None, -1]], [None, [None, None, None, None, None, -1], None, None, None, [None, 15]], None, None, [None, [None, None, 15], [None, -1]]], [[None, None, [None, None, None, None, None, 14], None, None, [None, None, -1]], None, [[None, None, None, None, None, 15], None, None, None, None, [16]], None, None, [[None, None, -1], None, [-1]]], [[None, [None, None, None, None, None, -1], None, None, None, [None, 16]], [[None, None, None, None, None, -1], None, None, None, None, [-1]], None, None, None, [[None, 17], [16]]], None, None, [[None, [None, None, 10], [None, -1]], [[None, None, 9], None, [10]], [[None, -1], [-1]]]], [[None, [None, None, [None, None, None, None, -1], None, [None, None, 9]], [None, [None, None, None, None, 11], None, None, [None, -1]], None, [None, [None, None, -1], [None, 13]]], [[None, None, [None, None, None, None, -1], None, [None, None, 14]], None, [[None, None, None, None, -1], None, None, None, [-1]], None, [[None, None, 13], None, [14]]], [[None, [None, None, None, None, 12], None, None, [None, -1]], [[None, None, None, None, 11], None, None, None, [10]], None, None, [[None, -1], [-1]]], None, [[None, [None, None, -1], [None, 14]], [[None, None, -1], None, [-1]], [[None, 13], [12]]]]], [[None, [None, None, [None, None, None, [None, None, None, None, None, -1], None, [None, None, None, 8]], [None, None, [None, None, None, None, None, 12], None, None, [None, None, -1]], None, [None, None, [None, None, None, -1], [None, None, 8]]], [None, [None, None, None, [None, None, None, None, None, 18], None, [None, None, None, -1]], None, [None, [None, None, None, None, None, -1], None, None, None, [None, 14]], None, [None, [None, None, None, 6], None, [None, -1]]], [None, [None, None, [None, None, None, None, None, -1], None, None, [None, None, 18]], [None, [None, None, None, None, None, 6], None, None, None, [None, -1]], None, None, [None, [None, None, -1], [None, 10]]], None, [None, [None, None, [None, None, None, 20], [None, None, -1]], [None, [None, None, None, -1], None, [None, 10]], [None, [None, None, 10], [None, -1]]]], [[None, None, [None, None, None, [None, None, None, None, None, -1], None, [None, None, None, 7]], [None, None, [None, None, None, None, None, 11], None, None, [None, None, -1]], None, [None, None, [None, None, None, -1], [None, None, 7]]], None, [[None, None, None, [None, None, None, None, None, -1], None, [None, None, None, 4]], None, None, [[None, None, None, None, None, -1], None, None, None, None, [-1]], None, [[None, None, None, 5], None, None, [6]]], [[None, None, [None, None, None, None, None, 4], None, None, [None, None, -1]], None, [[None, None, None, None, None, 5], None, None, None, None, [6]], None, None, [[None, None, -1], None, [-1]]], None, [[None, None, [None, None, None, -1], [None, None, 8]], None, [[None, None, None, -1], None, None, [-1]], [[None, None, 9], None, [10]]]], [[None, [None, None, None, [None, None, None, None, None, 19], None, [None, None, None, -1]], None, [None, [None, None, None, None, None, -1], None, None, None, [None, 15]], None, [None, [None, None, None, 7], None, [None, -1]]], [[None, None, None, [None, None, None, None, None, 14], None, [None, None, None, -1]], None, None, [[None, None, None, None, None, 13], None, None, None, None, [14]], None, [[None, None, None, -1], None, None, [-1]]], None, [[None, [None, None, None, None, None, -1], None, None, None, [None, 10]], [[None, None, None, None, None, -1], None, None, None, None, [-1]], None, None, None, [[None, 9], [8]]], None, [[None, [None, None, None, 18], None, [None, -1]], [[None, None, None, 19], None, None, [20]], None, [[None, -1], [-1]]]], [[None, [None, None, [None, None, None, None, None, -1], None, None, [None, None, 19]], [None, [None, None, None, None, None, 7], None, None, None, [None, -1]], None, None, [None, [None, None, -1], [None, 11]]], [[None, None, [None, None, None, None, None, -1], None, None, [None, None, 10]], None, [[None, None, None, None, None, -1], None, None, None, None, [-1]], None, None, [[None, None, 9], None, [10]]], [[None, [None, None, None, None, None, 18], None, None, None, [None, -1]], [[None, None, None, None, None, 19], None, None, None, None, [20]], None, None, None, [[None, -1], [-1]]], None, None, [[None, [None, None, -1], [None, 10]], [[None, None, -1], None, [-1]], [[None, 9], [8]]]], None, [[None, [None, None, [None, None, None, 21], [None, None, -1]], [None, [None, None, None, -1], None, [None, 11]], [None, [None, None, 11], [None, -1]]], [[None, None, [None, None, None, 10], [None, None, -1]], None, [[None, None, None, 9], None, None, [10]], [[None, None, -1], None, [-1]]], [[None, [None, None, None, -1], None, [None, 14]], [[None, None, None, -1], None, None, [-1]], None, [[None, 13], [12]]], [[None, [None, None, 18], [None, -1]], [[None, None, 19], None, [20]], [[None, -1], [-1]]]]], [[None, [None, None, [None, None, None, [None, None, None, None, 16], [None, None, None, -1]], [None, None, [None, None, None, None, -1], None, [None, None, 12]], [None, None, [None, None, None, 12], [None, None, -1]]], [None, [None, None, None, [None, None, None, None, -1], [None, None, None, 6]], None, [None, [None, None, None, None, 14], None, None, [None, -1]], [None, [None, None, None, -1], None, [None, 16]]], [None, [None, None, [None, None, None, None, 10], None, [None, None, -1]], [None, [None, None, None, None, -1], None, None, [None, 14]], None, [None, [None, None, 16], [None, -1]]], [None, [None, None, [None, None, None, -1], [None, None, 10]], [None, [None, None, None, 12], None, [None, -1]], [None, [None, None, -1], [None, 14]]]], [[None, None, [None, None, None, [None, None, None, None, 15], [None, None, None, -1]], [None, None, [None, None, None, None, -1], None, [None, None, 13]], [None, None, [None, None, None, 13], [None, None, -1]]], None, [[None, None, None, [None, None, None, None, 16], [None, None, None, -1]], None, None, [[None, None, None, None, 15], None, None, None, [14]], [[None, None, None, -1], None, None, [-1]]], [[None, None, [None, None, None, None, -1], None, [None, None, 16]], None, [[None, None, None, None, -1], None, None, None, [-1]], None, [[None, None, 15], None, [14]]], [[None, None, [None, None, None, 14], [None, None, -1]], None, [[None, None, None, 13], None, None, [14]], [[None, None, -1], None, [-1]]]], [[None, [None, None, None, [None, None, None, None, -1], [None, None, None, 7]], None, [None, [None, None, None, None, 15], None, None, [None, -1]], [None, [None, None, None, -1], None, [None, 15]]], [[None, None, None, [None, None, None, None, -1], [None, None, None, 14]], None, None, [[None, None, None, None, -1], None, None, None, [-1]], [[None, None, None, 13], None, None, [14]]], None, [[None, [None, None, None, None, 10], None, None, [None, -1]], [[None, None, None, None, 9], None, None, None, [8]], None, None, [[None, -1], [-1]]], [[None, [None, None, None, -1], None, [None, 16]], [[None, None, None, -1], None, None, [-1]], None, [[None, 15], [16]]]], [[None, [None, None, [None, None, None, None, 11], None, [None, None, -1]], [None, [None, None, None, None, -1], None, None, [None, 15]], None, [None, [None, None, 17], [None, -1]]], [[None, None, [None, None, None, None, 18], None, [None, None, -1]], None, [[None, None, None, None, 17], None, None, None, [16]], None, [[None, None, -1], None, [-1]]], [[None, [None, None, None, None, -1], None, None, [None, 18]], [[None, None, None, None, -1], None, None, None, [-1]], None, None, [[None, 17], [18]]], None, [[None, [None, None, 12], [None, -1]], [[None, None, 11], None, [12]], [[None, -1], [-1]]]], [[None, [None, None, [None, None, None, -1], [None, None, 9]], [None, [None, None, None, 13], None, [None, -1]], [None, [None, None, -1], [None, 13]]], [[None, None, [None, None, None, -1], [None, None, 10]], None, [[None, None, None, -1], None, None, [-1]], [[None, None, 11], None, [12]]], [[None, [None, None, None, 8], None, [None, -1]], [[None, None, None, 7], None, None, [8]], None, [[None, -1], [-1]]], [[None, [None, None, -1], [None, 12]], [[None, None, -1], None, [-1]], [[None, 13], [14]]]]]]\n"
     ]
    }
   ],
   "source": [
    "def lossless_compress(lst):\n",
    "    if isinstance(lst[0], list):\n",
    "        lst = [lossless_compress(e) for e in lst]\n",
    "    else:\n",
    "        lst = list(lst)\n",
    "    \n",
    "    # trimming\n",
    "    while len(lst) and lst[-1] is None:\n",
    "        lst.pop()\n",
    "    if not len(lst):\n",
    "        return None\n",
    "    else:\n",
    "        return lst\n",
    "\n",
    "\n",
    "compressed_lst = lossless_compress(full_lst)\n",
    "print([compressed_lst[lst[0]][lst[1]][lst[2]][lst[3]][lst[4]]])\n",
    "print('full lst size =', getsizeof(compressed_lst))\n",
    "print(compressed_lst)\n",
    "        \n",
    "    "
   ]
  },
  {
   "cell_type": "code",
   "execution_count": null,
   "metadata": {},
   "outputs": [],
   "source": []
  }
 ],
 "metadata": {
  "kernelspec": {
   "display_name": "Python 3",
   "language": "python",
   "name": "python3"
  },
  "language_info": {
   "codemirror_mode": {
    "name": "ipython",
    "version": 3
   },
   "file_extension": ".py",
   "mimetype": "text/x-python",
   "name": "python",
   "nbconvert_exporter": "python",
   "pygments_lexer": "ipython3",
   "version": "3.7.0"
  }
 },
 "nbformat": 4,
 "nbformat_minor": 2
}
